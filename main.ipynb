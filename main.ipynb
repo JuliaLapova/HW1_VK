{
 "cells": [
  {
   "cell_type": "code",
   "execution_count": 4,
   "id": "dde77fdb-3771-4a98-93d1-0805d2ccf966",
   "metadata": {
    "tags": []
   },
   "outputs": [],
   "source": [
    "import sys\n",
    "import webbrowser\n",
    "import argparse\n",
    "\n",
    "# Set dummy command-line arguments for Jupyter environment\n",
    "sys.argv = ['script.py', str(client_id)]\n",
    "\n",
    "client_id = \"51806465\"\n",
    "\n",
    "def get_access_token(client_id: int, scope: str) -> None:\n",
    "    assert isinstance(client_id, int), 'client_id must be an integer'\n",
    "    assert isinstance(scope, str), 'scope must be a string'\n",
    "    assert client_id > 0, 'client_id must be a positive integer'\n",
    "    url = f\"https://oauth.vk.com/authorize?client_id={client_id}&redirect_uri=https://oauth.vk.com/blank.html&scope={scope}&response_type=token&display=page\"\n",
    "    webbrowser.open_new_tab(url)\n",
    "\n",
    "if __name__ == \"__main__\":\n",
    "    parser = argparse.ArgumentParser()\n",
    "    parser.add_argument(\"client_id\", help=\"Application Id\", type=int)\n",
    "    parser.add_argument(\"-s\", dest=\"scope\", help=\"Permissions bit mask\", type=str, default=\"\", required=False)\n",
    "    args = parser.parse_args()\n",
    "    get_access_token(args.client_id, args.scope)"
   ]
  },
  {
   "cell_type": "code",
   "execution_count": null,
   "id": "c5cb641f-fdb1-4e68-b751-72536e1b1aba",
   "metadata": {},
   "outputs": [],
   "source": [
    "#https://oauth.vk.com/blank.html#access_token=vk1.a.46Y7HplPwpThDZ9L_bZhShBVQgXHxPxajCQE2rTPNhf_6JvtSuUoKHIGFZiRiWm0p8X-qsjVx6VOE8EZWDIMwmylsvobUt8K0tQManfrC7POMYbBTdGvTnh-OM9-ya-S-jm2bVy38R93lrTnolhtCf-8XZdWpYaPymvel48bCeuVxpd695245-aE2HvCmH2S&expires_in=86400&user_id=25188700"
   ]
  }
 ],
 "metadata": {
  "kernelspec": {
   "display_name": "Python 3 (ipykernel)",
   "language": "python",
   "name": "python3"
  },
  "language_info": {
   "codemirror_mode": {
    "name": "ipython",
    "version": 3
   },
   "file_extension": ".py",
   "mimetype": "text/x-python",
   "name": "python",
   "nbconvert_exporter": "python",
   "pygments_lexer": "ipython3",
   "version": "3.11.4"
  }
 },
 "nbformat": 4,
 "nbformat_minor": 5
}
