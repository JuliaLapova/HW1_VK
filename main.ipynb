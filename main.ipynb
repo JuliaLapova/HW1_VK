{
 "cells": [
  {
   "cell_type": "code",
   "execution_count": 7,
   "id": "dde77fdb-3771-4a98-93d1-0805d2ccf966",
   "metadata": {
    "tags": []
   },
   "outputs": [],
   "source": [
    "import sys\n",
    "import webbrowser\n",
    "import argparse\n",
    "\n",
    "# Set dummy command-line arguments for Jupyter environment\n",
    "sys.argv = ['script.py', str(client_id)]\n",
    "\n",
    "client_id = \"51806465\"\n",
    "\n",
    "def get_access_token(client_id: int, scope: str) -> None:\n",
    "    assert isinstance(client_id, int), 'client_id must be an integer'\n",
    "    assert isinstance(scope, str), 'scope must be a string'\n",
    "    assert client_id > 0, 'client_id must be a positive integer'\n",
    "    url = f\"https://oauth.vk.com/authorize?client_id={client_id}&redirect_uri=https://oauth.vk.com/blank.html&scope={scope}&response_type=token&display=page\"\n",
    "    webbrowser.open_new_tab(url)\n",
    "\n",
    "if __name__ == \"__main__\":\n",
    "    parser = argparse.ArgumentParser()\n",
    "    parser.add_argument(\"client_id\", help=\"Application Id\", type=int)\n",
    "    parser.add_argument(\"-s\", dest=\"scope\", help=\"Permissions bit mask\", type=str, default=\"\", required=False)\n",
    "    args = parser.parse_args()\n",
    "    get_access_token(args.client_id, args.scope)"
   ]
  },
  {
   "cell_type": "code",
   "execution_count": null,
   "id": "c5cb641f-fdb1-4e68-b751-72536e1b1aba",
   "metadata": {},
   "outputs": [],
   "source": [
    "#https://oauth.vk.com/blank.html#access_token=vk1.a.46Y7HplPwpThDZ9L_bZhShBVQgXHxPxajCQE2rTPNhf_6JvtSuUoKHIGFZiRiWm0p8X-qsjVx6VOE8EZWDIMwmylsvobUt8K0tQManfrC7POMYbBTdGvTnh-OM9-ya-S-jm2bVy38R93lrTnolhtCf-8XZdWpYaPymvel48bCeuVxpd695245-aE2HvCmH2S&expires_in=86400&user_id=25188700"
   ]
  },
  {
   "cell_type": "code",
   "execution_count": null,
   "id": "4a385679-0325-40d4-b20d-cf7d6b81e8fb",
   "metadata": {},
   "outputs": [],
   "source": [
    "# New token fot this ip adress"
   ]
  },
  {
   "cell_type": "code",
   "execution_count": null,
   "id": "7fb9cbc0-468e-45b4-9b68-8bfd67c7657f",
   "metadata": {},
   "outputs": [],
   "source": [
    "# https://oauth.vk.com/blank.html#access_token=\n",
    "#vk1.a.yFrhI0rsbloMS1b0OuzuXDCDhzd2DQS2eEqkMHgG7AHjk5t89YwFc4_DUlATQHn3TK0yppuA0gn5VZQZocMVIRPeroluTS5UoX6i1xrU8iSGcRUbl5B5JU2ihD460z-sGfin04sU2uuO1fpnVXCnlDHbo9McvTp2LRahpkT34sQNpvySBCb-Q_sBpDUKnQve\n",
    "#&expires_in=86400&user_id=25188700"
   ]
  },
  {
   "cell_type": "code",
   "execution_count": 8,
   "id": "bf74549b-b263-444d-b8a6-1c67656eb7bb",
   "metadata": {
    "tags": []
   },
   "outputs": [
    {
     "name": "stdout",
     "output_type": "stream",
     "text": [
      "{\n",
      "  \"response\": [\n",
      "    {\n",
      "      \"id\": 25188700,\n",
      "      \"bdate\": \"9.8.1983\",\n",
      "      \"city\": {\n",
      "        \"id\": 1,\n",
      "        \"title\": \"Москва\"\n",
      "      },\n",
      "      \"country\": {\n",
      "        \"id\": 1,\n",
      "        \"title\": \"Россия\"\n",
      "      },\n",
      "      \"photo_max_orig\": \"https://sun1-17.userapi.com/s/v1/if1/5eIzzU0_lLECQMyM3eoc9FHgcbPXBY5NEn0Ge-b6ELoQIsVrZ7h1pKJVPkoobtks4c641vEf.jpg?size=400x400&quality=96&crop=64,407,438,438&ava=1\",\n",
      "      \"photo_id\": \"25188700_456239211\",\n",
      "      \"status\": \"\",\n",
      "      \"last_seen\": {\n",
      "        \"platform\": 7,\n",
      "        \"time\": 1701537488\n",
      "      },\n",
      "      \"followers_count\": 269,\n",
      "      \"common_count\": 0,\n",
      "      \"occupation\": {\n",
      "        \"id\": 531574,\n",
      "        \"name\": \"Universitetet i Agder - UiA\",\n",
      "        \"type\": \"university\",\n",
      "        \"graduate_year\": 2005,\n",
      "        \"country_id\": 144,\n",
      "        \"city_id\": 1451\n",
      "      },\n",
      "      \"home_town\": \"Москва\",\n",
      "      \"sex\": 1,\n",
      "      \"online\": 0,\n",
      "      \"verified\": 0,\n",
      "      \"first_name\": \"Юлия\",\n",
      "      \"last_name\": \"Лапова\",\n",
      "      \"can_access_closed\": true,\n",
      "      \"is_closed\": false\n",
      "    }\n",
      "  ]\n",
      "}\n"
     ]
    }
   ],
   "source": [
    "import requests\n",
    "import json\n",
    "\n",
    "# The access token you received after authorization\n",
    "#access_token = 'vk1.a.46Y7HplPwpThDZ9L_bZhShBVQgXHxPxajCQE2rTPNhf_6JvtSuUoKHIGFZiRiWm0p8X-qsjVx6VOE8EZWDIMwmylsvobUt8K0tQManfrC7POMYbBTdGvTnh-OM9-ya-S-jm2bVy38R93lrTnolhtCf-8XZdWpYaPymvel48bCeuVxpd695245-aE2HvCmH2S'\n",
    "access_token = 'vk1.a.yFrhI0rsbloMS1b0OuzuXDCDhzd2DQS2eEqkMHgG7AHjk5t89YwFc4_DUlATQHn3TK0yppuA0gn5VZQZocMVIRPeroluTS5UoX6i1xrU8iSGcRUbl5B5JU2ihD460z-sGfin04sU2uuO1fpnVXCnlDHbo9McvTp2LRahpkT34sQNpvySBCb-Q_sBpDUKnQve'\n",
    "user_id = '25188700'  # The user ID for whom you want to retrieve information\n",
    "\n",
    "# Specify the fields you want to retrieve. You can find the list of available fields in the VK API documentation.\n",
    "fields = 'photo_id,verified,sex,bdate,city,country,home_town,photo_max_orig,online,status,last_seen,followers_count,common_count,occupation'\n",
    "\n",
    "# Form the request URL\n",
    "url = f\"https://api.vk.com/method/users.get?user_ids={user_id}&fields={fields}&access_token={access_token}&v=5.131\"\n",
    "\n",
    "# Send the request to the VK API\n",
    "response = requests.get(url)\n",
    "\n",
    "# Check if the request was successful\n",
    "if response.status_code == 200:\n",
    "    user_info = response.json()\n",
    "\n",
    "    # Output the information to the screen\n",
    "    print(json.dumps(user_info, indent=2, ensure_ascii=False))\n",
    "else:\n",
    "    print(f\"Failed to get user data. Status code: {response.status_code}\")"
   ]
  },
  {
   "cell_type": "code",
   "execution_count": 11,
   "id": "221731f9-dde9-4ba6-8d87-0516f18d7065",
   "metadata": {
    "tags": []
   },
   "outputs": [
    {
     "name": "stdout",
     "output_type": "stream",
     "text": [
      "Ошибка при запросе к API.Геокодер\n"
     ]
    }
   ],
   "source": [
    "import requests\n",
    "\n",
    "# Ваш ключ для API Яндекс.Геокодер\n",
    "api_key = 'ваш_api_ключ'\n",
    "city_name = 'Саратов'\n",
    "\n",
    "# Формируем запрос к API.Геокодер\n",
    "geocoder_url = f\"https://geocode-maps.yandex.ru/1.x/?apikey={api_key}&geocode={city_name}&format=json\"\n",
    "\n",
    "# Отправляем запрос\n",
    "response = requests.get(geocoder_url)\n",
    "if response.status_code == 200:\n",
    "    response_data = response.json()\n",
    "\n",
    "    # Извлекаем координаты города (longitude, latitude)\n",
    "    found_places = response_data['response']['GeoObjectCollection']['featureMember']\n",
    "    if found_places:\n",
    "        city_geo_object = found_places[0]['GeoObject']\n",
    "        city_coordinates_str = city_geo_object['Point']['pos']\n",
    "        \n",
    "        # Координаты возвращаются в формате \"долгота широта\"\n",
    "        city_longitude, city_latitude = city_coordinates_str.split()\n",
    "\n",
    "        print(f\"Координаты города {city_name}: Широта - {city_latitude}, Долгота - {city_longitude}\")\n",
    "    else:\n",
    "        print(\"Не удалось найти координаты города.\")\n",
    "else:\n",
    "    print(\"Ошибка при запросе к API.Геокодер\")"
   ]
  },
  {
   "cell_type": "code",
   "execution_count": 12,
   "id": "57f17753-94de-4519-b610-be6ccd9b0b05",
   "metadata": {
    "tags": []
   },
   "outputs": [
    {
     "ename": "KeyError",
     "evalue": "'response'",
     "output_type": "error",
     "traceback": [
      "\u001b[1;31m---------------------------------------------------------------------------\u001b[0m",
      "\u001b[1;31mKeyError\u001b[0m                                  Traceback (most recent call last)",
      "Cell \u001b[1;32mIn[12], line 10\u001b[0m\n\u001b[0;32m      8\u001b[0m city_url \u001b[38;5;241m=\u001b[39m \u001b[38;5;124mf\u001b[39m\u001b[38;5;124m'\u001b[39m\u001b[38;5;124mhttps://api.vk.com/method/database.getCities?q=\u001b[39m\u001b[38;5;132;01m{\u001b[39;00mcity_name\u001b[38;5;132;01m}\u001b[39;00m\u001b[38;5;124m&country_id=1&access_token=\u001b[39m\u001b[38;5;132;01m{\u001b[39;00maccess_token\u001b[38;5;132;01m}\u001b[39;00m\u001b[38;5;124m&v=\u001b[39m\u001b[38;5;132;01m{\u001b[39;00mv\u001b[38;5;132;01m}\u001b[39;00m\u001b[38;5;124m'\u001b[39m\n\u001b[0;32m      9\u001b[0m city_response \u001b[38;5;241m=\u001b[39m requests\u001b[38;5;241m.\u001b[39mget(city_url)\u001b[38;5;241m.\u001b[39mjson()\n\u001b[1;32m---> 10\u001b[0m city_id \u001b[38;5;241m=\u001b[39m \u001b[38;5;28mnext\u001b[39m((city[\u001b[38;5;124m'\u001b[39m\u001b[38;5;124mid\u001b[39m\u001b[38;5;124m'\u001b[39m] \u001b[38;5;28;01mfor\u001b[39;00m city \u001b[38;5;129;01min\u001b[39;00m city_response[\u001b[38;5;124m'\u001b[39m\u001b[38;5;124mresponse\u001b[39m\u001b[38;5;124m'\u001b[39m][\u001b[38;5;124m'\u001b[39m\u001b[38;5;124mitems\u001b[39m\u001b[38;5;124m'\u001b[39m] \u001b[38;5;28;01mif\u001b[39;00m city[\u001b[38;5;124m'\u001b[39m\u001b[38;5;124mtitle\u001b[39m\u001b[38;5;124m'\u001b[39m]\u001b[38;5;241m.\u001b[39mlower() \u001b[38;5;241m==\u001b[39m city_name\u001b[38;5;241m.\u001b[39mlower()), \u001b[38;5;28;01mNone\u001b[39;00m)\n\u001b[0;32m     12\u001b[0m \u001b[38;5;28;01mif\u001b[39;00m city_id \u001b[38;5;129;01mis\u001b[39;00m \u001b[38;5;28;01mNone\u001b[39;00m:\n\u001b[0;32m     13\u001b[0m     \u001b[38;5;28mprint\u001b[39m(\u001b[38;5;124m'\u001b[39m\u001b[38;5;124mНе удалось найти идентификатор города Саратов\u001b[39m\u001b[38;5;124m'\u001b[39m)\n",
      "\u001b[1;31mKeyError\u001b[0m: 'response'"
     ]
    }
   ],
   "source": [
    "import requests\n",
    "\n",
    "access_token = 'ваш_токен_доступа' # Замените на ваш действительный токен доступа\n",
    "v = '5.131'  # Версия API\n",
    "city_name = 'Саратов'  # Название города\n",
    "\n",
    "# Сначала определяем идентификатор города Саратов\n",
    "city_url = f'https://api.vk.com/method/database.getCities?q={city_name}&country_id=1&access_token={access_token}&v={v}'\n",
    "city_response = requests.get(city_url).json()\n",
    "city_id = next((city['id'] for city in city_response['response']['items'] if city['title'].lower() == city_name.lower()), None)\n",
    "\n",
    "if city_id is None:\n",
    "    print('Не удалось найти идентификатор города Саратов')\n",
    "else:\n",
    "    # Теперь, зная идентификатор, ищем пользователей из этого города\n",
    "    users_search_url = f'https://api.vk.com/method/users.search?city={city_id}&count=1000&access_token={access_token}&v={v}'\n",
    "    users_response = requests.get(users_search_url).json()\n",
    "\n",
    "    # Проверяем успешность запроса и выведем информацию о пользователях\n",
    "    if 'error' not in users_response:\n",
    "        users_data = users_response['response']['items']\n",
    "        # Выведем информацию пользователей на экран (например, первые 5 пользователей)\n",
    "        for user_info in users_data[:5]:\n",
    "            print(f\"ID: {user_info['id']}, Имя: {user_info['first_name']}, Фамилия: {user_info['last_name']}\")\n",
    "    else:\n",
    "        print(f\"Ошибка при поиске пользователей: {users_response['error']['error_msg']}\")"
   ]
  },
  {
   "cell_type": "code",
   "execution_count": 16,
   "id": "b7a3ad7d-ca9c-49e6-a489-82d39ac04fa7",
   "metadata": {
    "tags": []
   },
   "outputs": [
    {
     "name": "stdout",
     "output_type": "stream",
     "text": [
      "ID: 1281899, Имя: Анастасия, Фамилия: Ломакина\n",
      "ID: 1579705, Имя: Анна, Фамилия: Платошина\n",
      "ID: 23450250, Имя: Анастасия, Фамилия: Кинар\n",
      "ID: 49136552, Имя: Саша, Фамилия: Казбарас\n",
      "ID: 575371293, Имя: Доктор, Фамилия: Криворотов\n"
     ]
    }
   ],
   "source": [
    "import requests\n",
    "\n",
    "access_token = 'vk1.a.yFrhI0rsbloMS1b0OuzuXDCDhzd2DQS2eEqkMHgG7AHjk5t89YwFc4_DUlATQHn3TK0yppuA0gn5VZQZocMVIRPeroluTS5UoX6i1xrU8iSGcRUbl5B5JU2ihD460z-sGfin04sU2uuO1fpnVXCnlDHbo9McvTp2LRahpkT34sQNpvySBCb-Q_sBpDUKnQve'  # Замените на ваш действительный токен доступа\n",
    "v = '5.131'  # Версия API\n",
    "city_name = 'Саратов'  # Название города\n",
    "\n",
    "# Сначала определяем идентификатор города Саратов\n",
    "city_url = f'https://api.vk.com/method/database.getCities?q={city_name}&country_id=1&access_token={access_token}&v={v}'\n",
    "city_response = requests.get(city_url).json()\n",
    "\n",
    "# Проверяем наличие ключей 'response' и 'items', чтобы избежать KeyError\n",
    "if 'response' in city_response and 'items' in city_response['response']:\n",
    "    city_id = next((city['id'] for city in city_response['response']['items'] if city['title'].lower() == city_name.lower()), None)\n",
    "\n",
    "    if city_id is None:\n",
    "        print('Не удалось найти идентификатор города Саратов')\n",
    "    else:\n",
    "        # Теперь, зная идентификатор, ищем пользователей из этого города\n",
    "        users_search_url = f'https://api.vk.com/method/users.search?city={city_id}&count=1000&access_token={access_token}&v={v}'\n",
    "        users_response = requests.get(users_search_url).json()\n",
    "\n",
    "        # Проверяем успешность запроса и выведем информацию о пользователях\n",
    "        if 'error' not in users_response:\n",
    "            users_data = users_response['response']['items']\n",
    "            # Выведем информацию пользователей на экран (например, первые 5 пользователей)\n",
    "            for user_info in users_data[:5]:\n",
    "                print(f\"ID: {user_info['id']}, Имя: {user_info['first_name']}, Фамилия: {user_info['last_name']}\")\n",
    "        else:\n",
    "            print(f\"Ошибка при поиске пользователей: {users_response['error']['error_msg']}\")\n",
    "else:\n",
    "    if 'error' in city_response:\n",
    "        # Выводим ошибку, если она есть в ответе\n",
    "        error_message = city_response['error']['error_msg']\n",
    "        print(f\"Ошибка VK API: {error_message}\")\n",
    "    else:\n",
    "        # Общая ошибка (если нет ни 'error', ни 'response')\n",
    "        print(\"Неизвестная ошибка при запросе к VK API\")"
   ]
  },
  {
   "cell_type": "code",
   "execution_count": null,
   "id": "ab91cac6-e770-44ad-9b86-6ca929cb7701",
   "metadata": {},
   "outputs": [],
   "source": []
  },
  {
   "cell_type": "code",
   "execution_count": null,
   "id": "d7182a01-2e95-4b61-af2b-dcc753024df9",
   "metadata": {},
   "outputs": [],
   "source": []
  },
  {
   "cell_type": "code",
   "execution_count": null,
   "id": "41e0797e-b9ca-4c30-a265-086b073b3793",
   "metadata": {},
   "outputs": [],
   "source": []
  }
 ],
 "metadata": {
  "kernelspec": {
   "display_name": "Python 3 (ipykernel)",
   "language": "python",
   "name": "python3"
  },
  "language_info": {
   "codemirror_mode": {
    "name": "ipython",
    "version": 3
   },
   "file_extension": ".py",
   "mimetype": "text/x-python",
   "name": "python",
   "nbconvert_exporter": "python",
   "pygments_lexer": "ipython3",
   "version": "3.11.4"
  }
 },
 "nbformat": 4,
 "nbformat_minor": 5
}
