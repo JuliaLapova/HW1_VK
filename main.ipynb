{
 "cells": [
  {
   "cell_type": "code",
   "execution_count": 5,
   "id": "dde77fdb-3771-4a98-93d1-0805d2ccf966",
   "metadata": {
    "tags": []
   },
   "outputs": [],
   "source": [
    "import sys\n",
    "import webbrowser\n",
    "import argparse\n",
    "\n",
    "client_id = \"51806465\"\n",
    "\n",
    "# Set dummy command-line arguments for Jupyter environment\n",
    "sys.argv = ['script.py', str(client_id)]\n",
    "\n",
    "def get_access_token(client_id: int, scope: str) -> None:\n",
    "    assert isinstance(client_id, int), 'client_id must be an integer'\n",
    "    assert isinstance(scope, str), 'scope must be a string'\n",
    "    assert client_id > 0, 'client_id must be a positive integer'\n",
    "    url = f\"https://oauth.vk.com/authorize?client_id={client_id}&redirect_uri=https://oauth.vk.com/blank.html&scope={scope}&response_type=token&display=page\"\n",
    "    webbrowser.open_new_tab(url)\n",
    "\n",
    "if __name__ == \"__main__\":\n",
    "    parser = argparse.ArgumentParser()\n",
    "    parser.add_argument(\"client_id\", help=\"Application Id\", type=int)\n",
    "    parser.add_argument(\"-s\", dest=\"scope\", help=\"Permissions bit mask\", type=str, default=\"\", required=False)\n",
    "    args = parser.parse_args()\n",
    "    get_access_token(args.client_id, args.scope)"
   ]
  },
  {
   "cell_type": "code",
   "execution_count": 2,
   "id": "7fb9cbc0-468e-45b4-9b68-8bfd67c7657f",
   "metadata": {},
   "outputs": [],
   "source": [
    "# VK API дома\n",
    "#https://oauth.vk.com/blank.html#access_token=vk1.a._YSzF9YmMXbBWxBmG9E44L37tFCJ3bXD82DvD1YEnMwVf89oyS2zutnmsXXKEHTl7EPk3jKQmr9AGZQ8LEj2NdkKG63KdMsWtKNbayvDWlWYB_U0UA129SS2vG_Pif3fUFfmymfTTPMNr1IZ-VAKhZvMejah0KEBZcbYSQcw5Kc0_DGHs7EQsrIbOPL7yjMH&expires_in=86400&user_id=25188700"
   ]
  },
  {
   "cell_type": "code",
   "execution_count": null,
   "id": "d7511be2",
   "metadata": {},
   "outputs": [],
   "source": [
    "# VK API HSE на Мясницкой\n",
    "#https://oauth.vk.com/blank.html#access_token=vk1.a.czgJOiMbbBG6-Az10VnnlMhpd6wX-cO5t8IYrYAN2J_qtijkrzSrdhuLjhQxWWV9zvi5WOPo_lEo6Pne16e8-TA9mPO-_ESsh9pOF4c0Oz-DGP1QxK8S9pw3pVVTFHvVddH7LIWabilT5WaYk3HGd67ksBfpQIl9LIe-73O6C6PZ4A3t7z_UANnyykEQGBY4&expires_in=86400&user_id=25188700\n",
    "#vk1.a.czgJOiMbbBG6-Az10VnnlMhpd6wX-cO5t8IYrYAN2J_qtijkrzSrdhuLjhQxWWV9zvi5WOPo_lEo6Pne16e8-TA9mPO-_ESsh9pOF4c0Oz-DGP1QxK8S9pw3pVVTFHvVddH7LIWabilT5WaYk3HGd67ksBfpQIl9LIe-73O6C6PZ4A3t7z_UANnyykEQGBY4"
   ]
  },
  {
   "cell_type": "code",
<<<<<<< HEAD
   "execution_count": 6,
=======
   "execution_count": 8,
>>>>>>> 0f2a62075bcd9da7c6b187ac6c51de5315923039
   "id": "bf74549b-b263-444d-b8a6-1c67656eb7bb",
   "metadata": {
    "tags": []
   },
   "outputs": [
    {
     "name": "stdout",
     "output_type": "stream",
     "text": [
      "{\n",
      "  \"response\": [\n",
      "    {\n",
      "      \"id\": 25188700,\n",
      "      \"bdate\": \"9.8.1983\",\n",
      "      \"city\": {\n",
      "        \"id\": 1,\n",
      "        \"title\": \"Москва\"\n",
      "      },\n",
      "      \"country\": {\n",
      "        \"id\": 1,\n",
      "        \"title\": \"Россия\"\n",
      "      },\n",
      "      \"photo_max_orig\": \"https://sun1-17.userapi.com/s/v1/if1/5eIzzU0_lLECQMyM3eoc9FHgcbPXBY5NEn0Ge-b6ELoQIsVrZ7h1pKJVPkoobtks4c641vEf.jpg?size=400x400&quality=96&crop=64,407,438,438&ava=1\",\n",
      "      \"photo_id\": \"25188700_456239211\",\n",
      "      \"status\": \"\",\n",
      "      \"last_seen\": {\n",
      "        \"platform\": 2,\n",
      "        \"time\": 1702054093\n",
      "      },\n",
      "      \"followers_count\": 269,\n",
      "      \"common_count\": 0,\n",
      "      \"occupation\": {\n",
      "        \"id\": 531574,\n",
      "        \"name\": \"Universitetet i Agder - UiA\",\n",
      "        \"type\": \"university\",\n",
      "        \"graduate_year\": 2005,\n",
      "        \"country_id\": 144,\n",
      "        \"city_id\": 1451\n",
      "      },\n",
      "      \"home_town\": \"Москва\",\n",
      "      \"sex\": 1,\n",
      "      \"online\": 0,\n",
      "      \"verified\": 0,\n",
      "      \"first_name\": \"Юлия\",\n",
      "      \"last_name\": \"Лапова\",\n",
      "      \"can_access_closed\": true,\n",
      "      \"is_closed\": false\n",
      "    }\n",
      "  ]\n",
      "}\n"
     ]
    }
   ],
   "source": [
    "import requests\n",
    "import json\n",
    "\n",
    "# access token\n",
    "access_token = 'vk1.a._YSzF9YmMXbBWxBmG9E44L37tFCJ3bXD82DvD1YEnMwVf89oyS2zutnmsXXKEHTl7EPk3jKQmr9AGZQ8LEj2NdkKG63KdMsWtKNbayvDWlWYB_U0UA129SS2vG_Pif3fUFfmymfTTPMNr1IZ-VAKhZvMejah0KEBZcbYSQcw5Kc0_DGHs7EQsrIbOPL7yjMH'\n",
    "user_id = '25188700'  # мой user ID для вывода примера \n",
    "\n",
    "# Specify the fields you want to retrieve. You can find the list of available fields in the VK API documentation.\n",
    "fields = 'photo_id,verified,sex,bdate,city,country,home_town,photo_max_orig,online,status,last_seen,followers_count,common_count,occupation'\n",
    "\n",
    "# Сформируем \n",
    "url = f\"https://api.vk.com/method/users.get?user_ids={user_id}&fields={fields}&access_token={access_token}&v=5.131\"\n",
    "\n",
    "# Отправить запрос на VK API\n",
    "response = requests.get(url)\n",
    "\n",
    "# Проверка успешности запроса\n",
    "if response.status_code == 200:\n",
    "    user_info = response.json()\n",
    "\n",
    "    # Выведеи информацию\n",
    "    print(json.dumps(user_info, indent=2, ensure_ascii=False))\n",
    "else:\n",
    "    print(f\"Failed to get user data. Status code: {response.status_code}\")"
   ]
  },
  {
   "cell_type": "code",
<<<<<<< HEAD
   "execution_count": 7,
=======
   "execution_count": 9,
>>>>>>> 0f2a62075bcd9da7c6b187ac6c51de5315923039
   "id": "b7a3ad7d-ca9c-49e6-a489-82d39ac04fa7",
   "metadata": {
    "tags": []
   },
   "outputs": [
    {
     "name": "stdout",
     "output_type": "stream",
     "text": [
      "ID: 1579705, Имя: Анна, Фамилия: Платошина\n",
      "ID: 585748208, Имя: Наталья, Фамилия: Рудова\n",
      "ID: 14723598, Имя: Ирина, Фамилия: Бекова\n",
      "ID: 638483893, Имя: Антон, Фамилия: Алексеев\n",
      "ID: 86734604, Имя: Ultra, Фамилия: Tishirskaya\n",
      "Информация о 529 пользователях сохранена в 'users_saratov.csv'\n"
     ]
    }
   ],
   "source": [
    "import requests\n",
    "import csv\n",
    "\n",
    "v = '5.131'  # Версия API\n",
    "city_name = 'Саратов'  # Название города\n",
    "\n",
    "# Сначала определяем идентификатор города Саратов\n",
    "city_url = f'https://api.vk.com/method/database.getCities?q={city_name}&country_id=1&access_token={access_token}&v={v}'\n",
    "city_response = requests.get(city_url).json()\n",
    "\n",
    "# Проверяем наличие ключей 'response' и 'items', чтобы избежать KeyError\n",
    "if 'response' in city_response and 'items' in city_response['response']:\n",
    "    city_id = next((city['id'] for city in city_response['response']['items'] if city['title'].lower() == city_name.lower()), None)\n",
    "\n",
    "    if city_id is None:\n",
    "        print('Не удалось найти идентификатор города Саратов')\n",
    "    else:\n",
    "        # Теперь, зная идентификатор, ищем пользователей из этого города\n",
    "        users_search_url = f'https://api.vk.com/method/users.search?city={city_id}&count=1000&access_token={access_token}&v={v}'\n",
    "        users_response = requests.get(users_search_url).json()\n",
    "\n",
    "        # Проверяем успешность запроса и выведем информацию о пользователях\n",
    "        if 'error' not in users_response:\n",
    "            users_data = users_response['response']['items']\n",
    "            # Выведем информацию пользователей на экран (например, первые 5 пользователей)\n",
    "            for user_info in users_data[:5]:\n",
    "                print(f\"ID: {user_info['id']}, Имя: {user_info['first_name']}, Фамилия: {user_info['last_name']}\")\n",
    "        else:\n",
    "            print(f\"Ошибка при поиске пользователей: {users_response['error']['error_msg']}\")\n",
    "else:\n",
    "    if 'error' in city_response:\n",
    "        # Выводим ошибку, если она есть в ответе\n",
    "        error_message = city_response['error']['error_msg']\n",
    "        print(f\"Ошибка VK API: {error_message}\")\n",
    "    else:\n",
    "        # Общая ошибка (если нет ни 'error', ни 'response')\n",
    "        print(\"Неизвестная ошибка при запросе к VK API\")\n",
    "        \n",
    "if 'response' in city_response and 'items' in city_response['response']:\n",
    "    city_id = next((city['id'] for city in city_response['response']['items'] if city['title'].lower() == city_name.lower()), None)\n",
    "\n",
    "    if city_id is None:\n",
    "        print('Не удалось найти идентификатор города Саратов')\n",
    "    else:\n",
    "        # Создадим CSV файл для сохранения данных\n",
    "        with open('users_saratov.csv', mode='w', encoding='utf-8', newline='') as csv_file:\n",
    "            fieldnames = ['ID', 'Имя', 'Фамилия']\n",
    "            writer = csv.DictWriter(csv_file, fieldnames=fieldnames)\n",
    "            writer.writeheader()\n",
    "\n",
    "            users_search_url = f'https://api.vk.com/method/users.search?city={city_id}&count=1000&access_token={access_token}&v={v}'\n",
    "            users_response = requests.get(users_search_url).json()\n",
    "\n",
    "            if 'error' not in users_response:\n",
    "                users_data = users_response['response']['items']\n",
    "                # Сохраняем информацию пользователей в CSV файл\n",
    "                for user_info in users_data:\n",
    "                    writer.writerow({\n",
    "                        'ID': user_info['id'],\n",
    "                        'Имя': user_info['first_name'],\n",
    "                        'Фамилия': user_info['last_name']\n",
    "                    })\n",
    "                print(f\"Информация о {len(users_data)} пользователях сохранена в 'users_saratov.csv'\")\n",
    "            else:\n",
    "                print(f\"Ошибка при поиске пользователей: {users_response['error']['error_msg']}\")\n",
    "else:\n",
    "    if 'error' in city_response:\n",
    "        error_message = city_response['error']['error_msg']\n",
    "        print(f\"Ошибка VK API: {error_message}\")\n",
    "    else:\n",
    "        print(\"Неизвестная ошибка при запросе к VK API.\")"
   ]
  },
  {
   "cell_type": "code",
   "execution_count": 8,
   "id": "87e87da1-25f7-41d4-99fc-8ae00a206141",
   "metadata": {
    "tags": []
   },
   "outputs": [
    {
     "name": "stdout",
     "output_type": "stream",
     "text": [
      "Information about users has been saved to 'users_saratov.csv'\n"
     ]
    }
   ],
   "source": [
    "import requests\n",
    "import csv\n",
    "import time\n",
    "\n",
    "v = '5.131'  # API version\n",
    "city_name = 'Саратов'\n",
    "total_users = 10000  # Всего пользователей для разбора\n",
    "count_per_request = 1000  # Максимальное количество которое вернется в результате запроса (максимум 1000)\n",
    "delay_between_requests = 1  # Отсрочка в 1 секунду между API запросами\n",
    "\n",
    "# Сначала определим city ID Саратова\n",
    "city_url = f'https://api.vk.com/method/database.getCities?q={city_name}&country_id=1&access_token={access_token}&v={v}'\n",
    "city_response = requests.get(city_url).json()\n",
    "city_id = next((city['id'] for city in city_response['response']['items'] if city['title'].lower() == city_name.lower()), None)\n",
    "\n",
    "if city_id:\n",
    "    with open('users_saratov.csv', mode='w', encoding='utf-8', newline='') as csv_file:\n",
    "        fieldnames = ['ID', 'Имя', 'Фамилия', 'Год рождения', 'Пол']\n",
    "        writer = csv.DictWriter(csv_file, fieldnames=fieldnames)\n",
    "        writer.writeheader()\n",
    "\n",
    "        # Цикл для получения необходимого количества пользователей\n",
    "        for offset in range(0, total_users, count_per_request):\n",
    "            while True:  # Повторяем пока не достигнем лимита\n",
    "                users_search_url = f'https://api.vk.com/method/users.search?city={city_id}&count={count_per_request}&offset={offset}&fields=bdate,sex&access_token={access_token}&v={v}'\n",
    "                users_response = requests.get(users_search_url).json()\n",
    "\n",
    "                if 'error' not in users_response:\n",
    "                    users_data = users_response['response']['items']\n",
    "                    for user_info in users_data:\n",
    "                        writer.writerow({\n",
    "                            'ID': user_info['id'],\n",
    "                            'Имя': user_info['first_name'],\n",
    "                            'Фамилия': user_info['last_name'],\n",
    "                            'Год рождения': user_info.get('bdate', '').split('.')[2] if 'bdate' in user_info and len(user_info['bdate'].split('.')) == 3 else '',\n",
    "                            'Пол': 'Женский' if user_info.get('sex') == 1 else 'Мужской' if user_info.get('sex') == 2 else 'Не указан'\n",
    "                        })\n",
    "                    time.sleep(delay_between_requests)  # Отсрочка для того, чтобы избежать ошибки\n",
    "                    break  # Выход \n",
    "                else:\n",
    "                    error_message = users_response['error']['error_msg']\n",
    "                    print(f\"Error fetching users: {error_message}\")\n",
    "                    if users_response['error']['error_code'] == 6:  # Ошибка - Too many requests per second\n",
    "                        time.sleep(delay_between_requests)  # Ждем и пробуем снова\n",
    "                    else:\n",
    "                        break  # Закончим в случае, когда достигнут лимит\n",
    "        print(\"Information about users has been saved to 'users_saratov.csv'\")\n",
    "else:\n",
    "    print(\"Failed to identify the city ID for Saratov.\")"
   ]
<<<<<<< HEAD
=======
  },
  {
   "cell_type": "code",
   "execution_count": null,
   "id": "42cb0877",
   "metadata": {},
   "outputs": [],
   "source": []
>>>>>>> 0f2a62075bcd9da7c6b187ac6c51de5315923039
  }
 ],
 "metadata": {
  "kernelspec": {
   "display_name": "Python 3 (ipykernel)",
   "language": "python",
   "name": "python3"
  },
  "language_info": {
   "codemirror_mode": {
    "name": "ipython",
    "version": 3
   },
   "file_extension": ".py",
   "mimetype": "text/x-python",
   "name": "python",
   "nbconvert_exporter": "python",
   "pygments_lexer": "ipython3",
   "version": "3.11.4"
  }
 },
 "nbformat": 4,
 "nbformat_minor": 5
}
